{
  "nbformat": 4,
  "nbformat_minor": 0,
  "metadata": {
    "colab": {
      "provenance": [],
      "toc_visible": true,
      "gpuType": "V5E1",
      "include_colab_link": true
    },
    "kernelspec": {
      "name": "python3",
      "display_name": "Python 3"
    },
    "accelerator": "TPU"
  },
  "cells": [
    {
      "cell_type": "markdown",
      "metadata": {
        "id": "view-in-github",
        "colab_type": "text"
      },
      "source": [
        "<a href=\"https://colab.research.google.com/github/rdoEdoa/EESAM/blob/main/LearningCurves.ipynb\" target=\"_parent\"><img src=\"https://colab.research.google.com/assets/colab-badge.svg\" alt=\"Open In Colab\"/></a>"
      ]
    },
    {
      "cell_type": "markdown",
      "metadata": {
        "id": "118t4Xo7mgMF"
      },
      "source": [
        "# Learning curves\n",
        "A learning curve shows the validation and training scores of an estimator for varying numbers of training samples. It is a tool to find out how much we benefit from adding more training data and whether the estimator suffers more from a variance error or a bias error.\n"
      ]
    },
    {
      "cell_type": "markdown",
      "metadata": {
        "id": "YThHFBdi1mUo"
      },
      "source": [
        "## Importing packages and functions\n",
        "- [numpy](https://numpy.org) is a python package that provides support for more efficient numerical computation\n",
        "- [pandas](https://pandas.pydata.org) is a convenient library that supports dataframes. Pandas is technically optional because [Scikit-Learn](https://scikit-learn.org) can handle numerical matrices directly, but it will make our lives easier, as we will see later.\n",
        "- [LinearRegression](https://scikit-learn.org/stable/modules/generated/sklearn.linear_model.LinearRegression.html) is a python class that implements the Linear Regression model.\n",
        "- [learning_curve()](https://scikit-learn.org/stable/modules/generated/sklearn.model_selection.learning_curve.html) generates the learning curve for a varying size of training dataset.\n",
        "- [matplotlib](https://matplotlib.org/) is a python package that will be used later for plotting."
      ]
    },
    {
      "cell_type": "code",
      "source": [
        "!pip install openpyxl\n",
        "\n",
        "import numpy as np\n",
        "import pandas as pd\n",
        "import math\n",
        "import matplotlib as mpl\n",
        "import matplotlib.pyplot as plt\n",
        "\n",
        "from sklearn.linear_model import LinearRegression\n",
        "from sklearn.linear_model import Lasso\n",
        "from sklearn.linear_model import Ridge\n",
        "from sklearn.metrics import mean_squared_error\n",
        "from sklearn.model_selection import train_test_split\n",
        "from sklearn.model_selection import learning_curve\n",
        "\n",
        "from sklearn.preprocessing import PolynomialFeatures\n",
        "from sklearn.pipeline import Pipeline\n",
        "from sklearn.preprocessing import StandardScaler"
      ],
      "metadata": {
        "id": "KABUU4coVrgX",
        "colab": {
          "base_uri": "https://localhost:8080/"
        },
        "outputId": "509b2873-618a-4a8d-8612-944b319d4e42"
      },
      "execution_count": 4,
      "outputs": [
        {
          "output_type": "stream",
          "name": "stdout",
          "text": [
            "Collecting openpyxl\n",
            "  Downloading openpyxl-3.1.5-py2.py3-none-any.whl.metadata (2.5 kB)\n",
            "Collecting et-xmlfile (from openpyxl)\n",
            "  Downloading et_xmlfile-2.0.0-py3-none-any.whl.metadata (2.7 kB)\n",
            "Downloading openpyxl-3.1.5-py2.py3-none-any.whl (250 kB)\n",
            "\u001b[?25l   \u001b[90m━━━━━━━━━━━━━━━━━━━━━━━━━━━━━━━━━━━━━━━━\u001b[0m \u001b[32m0.0/250.9 kB\u001b[0m \u001b[31m?\u001b[0m eta \u001b[36m-:--:--\u001b[0m\r\u001b[2K   \u001b[90m━━━━━━━━━━━━━━━━━━━━━━━━━━━━━━━━━━━━━━━━\u001b[0m \u001b[32m250.9/250.9 kB\u001b[0m \u001b[31m8.5 MB/s\u001b[0m eta \u001b[36m0:00:00\u001b[0m\n",
            "\u001b[?25hDownloading et_xmlfile-2.0.0-py3-none-any.whl (18 kB)\n",
            "Installing collected packages: et-xmlfile, openpyxl\n",
            "Successfully installed et-xmlfile-2.0.0 openpyxl-3.1.5\n"
          ]
        }
      ]
    },
    {
      "cell_type": "markdown",
      "metadata": {
        "id": "HonKnp5FkLsh"
      },
      "source": [
        "## Importing data\n",
        "Let us now read the data for this lab. They are **real**, not synthetic, and come from Turkish researchers Pınar Tüfekci and Heysem Kaya, and can be downloaded from the URL below (the original is [here](https://archive.ics.uci.edu/ml/datasets/Combined+Cycle+Power+Plant)).\n",
        "As the data is stored in an .xlsx file, we use pandas’ read_excel() function to read it in, show the data format, and print the first three lines.\n",
        "A \"[dataframe](https://pandas.pydata.org/pandas-docs/stable/reference/frame.html)\" in pandas (and in other ML frameworks such as R) is a class that includes\n",
        "- a data set (in this case 5 columns and 9567 lines)\n",
        "- some format information, such as the column names (from the xlsx header), the data types and so on\n",
        "- methods to print mean, standard deviation and so on."
      ]
    },
    {
      "cell_type": "code",
      "metadata": {
        "id": "PZFBrdUMqXek",
        "colab": {
          "base_uri": "https://localhost:8080/"
        },
        "outputId": "49c1676c-ca50-4a34-824f-23176ed239af"
      },
      "source": [
        "dataset_url = 'https://raw.githubusercontent.com/lavagno/eesam/main/Folds5x2_pp.xlsx'\n",
        "electricity = pd.read_excel(dataset_url)\n",
        "print(\"Some generic information about the dataframe:\")\n",
        "print(electricity.info())\n",
        "print(\"The first three rows of the dataframe:\")\n",
        "print(electricity.head(3))\n",
        "print(\"The mean of each column:\")\n",
        "print(electricity.mean())\n",
        "print(\"The standard deviation of each column:\")\n",
        "print(electricity.std())"
      ],
      "execution_count": 5,
      "outputs": [
        {
          "output_type": "stream",
          "name": "stdout",
          "text": [
            "Some generic information about the dataframe:\n",
            "<class 'pandas.core.frame.DataFrame'>\n",
            "RangeIndex: 9568 entries, 0 to 9567\n",
            "Data columns (total 5 columns):\n",
            " #   Column  Non-Null Count  Dtype  \n",
            "---  ------  --------------  -----  \n",
            " 0   AT      9568 non-null   float64\n",
            " 1   V       9568 non-null   float64\n",
            " 2   AP      9568 non-null   float64\n",
            " 3   RH      9568 non-null   float64\n",
            " 4   PE      9568 non-null   float64\n",
            "dtypes: float64(5)\n",
            "memory usage: 373.9 KB\n",
            "None\n",
            "The first three rows of the dataframe:\n",
            "      AT      V       AP     RH      PE\n",
            "0  14.96  41.76  1024.07  73.17  463.26\n",
            "1  25.18  62.96  1020.04  59.08  444.37\n",
            "2   5.11  39.40  1012.16  92.14  488.56\n",
            "The mean of each column:\n",
            "AT      19.651231\n",
            "V       54.305804\n",
            "AP    1013.259078\n",
            "RH      73.308978\n",
            "PE     454.365009\n",
            "dtype: float64\n",
            "The standard deviation of each column:\n",
            "AT     7.452473\n",
            "V     12.707893\n",
            "AP     5.938784\n",
            "RH    14.600269\n",
            "PE    17.066995\n",
            "dtype: float64\n"
          ]
        }
      ]
    },
    {
      "cell_type": "markdown",
      "metadata": {
        "id": "IY5vi_keqX-y"
      },
      "source": [
        "The PE column is the target variable (i.e. the output of the ML prediction), and it describes the net hourly electrical energy output. All the other variables are potential features, and the values for each are actually hourly averages (not net values, like for PE). The electricity is generated by gas turbines, steam turbines, and heat recovery steam generators. According to the documentation of the data set, the vacuum level has an effect on steam turbines, while the other three variables affect the gas turbines. Consequently, we will use all of the feature columns in our regression models. At this step we would normally put aside a test set, explore the training data thoroughly, remove any outliers, measure correlations, etc. For this lab's purposes, however, we will assume that’s already done and jump straight to generate some learning curves. Before we start that, it is worth noticing that there are no missing values (i.e. the data have already been \"cleaned\" for us). Also, the numbers are unscaled, but they are not too far apart, so we should not have too many problems without scaling. We will cover scaling (subtracting mean, dividing by std) in later labs.\n",
        "\n"
      ]
    },
    {
      "cell_type": "markdown",
      "metadata": {
        "id": "fhGOi-LK4tSv"
      },
      "source": [
        "## Selecting various training set sizes\n",
        "First of all, we need to select a few training set sizes, to see what impact the amount of data has on the training error and the validation error.\n",
        "\n",
        "From the lessons, you should remember that:\n",
        "*   The training error for a **given model** should go **up** with the amont of data, because it becomes difficult to fit the actual data variance into the fixed model, and hence the model suffers from **increased bias**.\n",
        "*   The validation error for that model should go **down** with the amount of training data, because the model is shown more and more variance among the data, and hence it becomes better in the presence of **unseen variance** from the validation set.\n",
        "\n",
        "The minimum number of data is of course 1. Technically, to \"learn\" a linear model with 4 **independent** features (the features in this case are most likely not independent; we will look into that later), hence with 5 independent parameters (4 weights for 4 features, plus a bias), we need a minimum of 5 data items. So we know a priori that datasets with 5 less than 5 elements will be meaningless.\n",
        "\n",
        "The maximum is given by the number of instances in the training set. Our training set has 9568 instances, so the maximum value is 9568.\n",
        "\n",
        "However, we have not yet put aside a validation set. We will do that using an 80:20 ratio, ending up with a training set of 7654 instances (80%), and a validation set of 1914 instances (20%). Given that our training set will have 7654 instances, the maximum value we can use to generate our learning curves is 7654. For our case, here, we use these 9 **logarithmically distributed** sizes (to optimize the visibility of changes):"
      ]
    },
    {
      "cell_type": "code",
      "metadata": {
        "id": "IUs7LCSD0yix"
      },
      "source": [
        "train_sizes = [1, 3, 10, 30, 100, 300, 1000, 5000, 7654]"
      ],
      "execution_count": 6,
      "outputs": []
    },
    {
      "cell_type": "markdown",
      "metadata": {
        "id": "p91O3t6G1T8F"
      },
      "source": [
        "## The learning_curve function\n",
        "\n",
        "We will use the [`learning_curve()`](https://scikit-learn.org/stable/modules/generated/sklearn.model_selection.learning_curve.html) function from the scikit-learn library to generate a learning curve for a regression model. There is no need on our part to put aside a validation set because `learning_curve()` will take care of that. In the code cell below, we:\n",
        "- Declare the features and the target.\n",
        "- Use learning_curve() to generate the data needed to plot a learning curve.\n",
        "\n",
        "The function returns a tuple containing three elements:\n",
        "  1. the vector of training set sizes,\n",
        "  2. the vector of error scores on the training sets\n",
        "  3. the vector of error scores on the validation sets.\n",
        "\n",
        "The function takes (among many others) the following parameters:\n",
        " 1. The `estimator` argument indicates the learning algorithm we use to estimate the true model, in this case [LinearRegression](https://scikit-learn.org/stable/modules/generated/sklearn.linear_model.LinearRegression.html);\n",
        " 1. The `X` argument contains the features;\n",
        " 1. The `y` argument contains the target;\n",
        " 1. The `train_sizes` argument specifies the training set sizes to be used;\n",
        " 1. The `cv` argument determines the cross-validation splitting strategy (we will discuss this immediately below);\n",
        " 1. The `scoring` argument indicates the error metric to use. The intention is to use the mean squared error (MSE) metric, but that is not a possible parameter for scoring, because the function expects a metric where **larger is better** (the full list is [here](https://scikit-learn.org/stable/modules/model_evaluation.html)). We will use the closest approximation, negative MSE (accuracy would have been another option), and we will just have to change its sign later on.\n"
      ]
    },
    {
      "cell_type": "code",
      "metadata": {
        "id": "CcTsGfo32s7H"
      },
      "source": [
        "features = ['AT', 'V', 'AP', 'RH']\n",
        "target = 'PE'\n",
        "train_sizes, train_scores, validation_scores = learning_curve(\n",
        "estimator = LinearRegression(),\n",
        "X = electricity[features],\n",
        "y = electricity[target], train_sizes = train_sizes, cv = 5,\n",
        "scoring = 'neg_mean_squared_error')"
      ],
      "execution_count": 7,
      "outputs": []
    },
    {
      "cell_type": "markdown",
      "metadata": {
        "id": "28SAjBpQ2z5n"
      },
      "source": [
        "We already know what is in `train_sizes` (they are our vector `[1, 3, ... 7654]`). Let us inspect the other two variables to see what `learning_curve()` returned:"
      ]
    },
    {
      "cell_type": "code",
      "metadata": {
        "id": "noe3HUsn27DZ",
        "colab": {
          "base_uri": "https://localhost:8080/"
        },
        "outputId": "2d96e346-fd2a-4af0-8acf-18dd6adcf32d"
      },
      "source": [
        "print('Training scores:', train_scores)\n",
        "print('\\n', '-' * 70) # separator to make the output easy to read\n",
        "print('Validation scores:', validation_scores)"
      ],
      "execution_count": 8,
      "outputs": [
        {
          "output_type": "stream",
          "name": "stdout",
          "text": [
            "Training scores: [[-0.00000000e+00 -0.00000000e+00 -0.00000000e+00 -0.00000000e+00\n",
            "  -0.00000000e+00]\n",
            " [-1.07705809e-27 -5.70840787e-26 -5.70840787e-26 -5.70840787e-26\n",
            "  -5.70840787e-26]\n",
            " [-7.36688170e+00 -4.75540144e+00 -4.75540144e+00 -4.75540144e+00\n",
            "  -4.75540144e+00]\n",
            " [-2.04540104e+01 -1.86024457e+01 -1.86024457e+01 -1.86024457e+01\n",
            "  -1.86024457e+01]\n",
            " [-1.97123070e+01 -1.83149264e+01 -1.83149264e+01 -1.83149264e+01\n",
            "  -1.83149264e+01]\n",
            " [-1.94011644e+01 -1.79826244e+01 -1.79826244e+01 -1.79826244e+01\n",
            "  -1.79826244e+01]\n",
            " [-1.95381179e+01 -1.99752169e+01 -1.99752169e+01 -1.99752169e+01\n",
            "  -1.99752169e+01]\n",
            " [-2.04770890e+01 -1.99336421e+01 -2.05609157e+01 -2.04150839e+01\n",
            "  -2.04150839e+01]\n",
            " [-2.09856534e+01 -2.06300609e+01 -2.10438470e+01 -2.06352681e+01\n",
            "  -2.05295561e+01]]\n",
            "\n",
            " ----------------------------------------------------------------------\n",
            "Validation scores: [[-619.30514723 -379.81090366 -374.4107861  -370.03037109 -373.30597982]\n",
            " [-119.34614616 -643.46580308 -701.03479315 -662.55069687 -640.08452301]\n",
            " [ -53.53470223  -31.45061166  -28.45620407  -31.97729194  -31.14040789]\n",
            " [ -27.34074213  -28.10152338  -25.9617082   -28.22086129  -29.25105083]\n",
            " [ -21.80224219  -23.01103419  -20.81350389  -22.88459236  -23.44955492]\n",
            " [ -19.99471779  -21.85443123  -20.08489846  -21.71070868  -22.28168999]\n",
            " [ -19.95712841  -21.31255648  -19.67233217  -21.35706702  -21.79455107]\n",
            " [ -19.88806264  -21.3183303   -19.68228562  -21.35019525  -21.75949097]\n",
            " [ -19.9046791   -21.33448781  -19.67831137  -21.31935146  -21.73778949]]\n"
          ]
        }
      ]
    },
    {
      "cell_type": "markdown",
      "metadata": {
        "id": "7_1m6F6C3JQk"
      },
      "source": [
        "## Analysis of the results\n",
        "Since we specified 9 training set sizes, you might have expected 9 values for each kind of score. Instead, we got 9 rows for each, and every row has 5 error scores. This happens because learning_curve() runs a **k-fold cross-validation** under the hood, where the value of k is given by what we specify for the `cv` parameter. In our case, `cv = 5`, so there will be five splits. For each split, an estimator is trained for every training set size specified.\n",
        "\n",
        "In this way we can better estimate the **variance** of each score. As expected, with small data sets variance is **huge**, since it is unlikely that those few data are good representatives of the total population.\n",
        "\n",
        "A few observations:\n",
        "1. For 1 training datum, the training error is 0, because a straight line can fit exactly any 1- or 2-point dataset. Of course the validation error is huge, because with just 1 datum we cannot even guess correctly the 5 parameters of our model (4 weights and one bias). Hence this part of the lerning curve will not be realistic, but it will give us an idea of what happens when we have too few data to learn all the parametrs of the model.\n",
        "2. With larger and larger dataset variance goes down, and that is a **good indication that above roughly 100 samples we have included enough data to properly train our model**.\n",
        "3. **The training and validation error curves converge**, and that means again that **we are not experiencing overfitting**, i.e. we do not see too little variance in the training data with respect to the large variance of the \"true population\" (represented by the validation set).\n",
        "4. The final mean squared errors are fairly low (the square root of 20 is about 4.5, while the mean value of PE is about 450, hence we are about 1% off the true prediction).\n",
        "5. The values of columns 2, 3, 4 and 5 of the training error the smaller datasets are identical, e.g. (your actual values may be different, due to different random number generator seeds):\n",
        "```\n",
        "[-3.23117427e-27 -6.57005434e-26 -6.57005434e-26 -6.57005434e-26\n",
        "  -6.57005434e-26]\n",
        "```\n",
        "“Once is happenstance. Twice is coincidence. Three times is enemy action” (I. Fleming)\n",
        "\n",
        "In this case, there is a reason (hence it's enemy action :-) ). When the cardinality M of selected training data is small, N-fold cross-validation will **always choose the first M elements of the dataset from the second training onwards**, as shown in this picture:\n",
        "![splits.png](data:image/png;base64,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)\n",
        "\n",
        "To avoid this effect, in reality we would need to set the `shuffle` parameter of `learning_curve()` to `True`. This will ensure a random selection of the training set, and will move you closer to being true professionals :-).\n"
      ]
    },
    {
      "cell_type": "markdown",
      "metadata": {
        "id": "AJNJolfv2LZI"
      },
      "source": [
        "## Plotting the learning curves\n",
        "While we can already see such trends from the raw data, a picture is worth a thousand words. Hence we will first **compute** and then **plot** the mean validation error (a true professional would plot both mean and mean+/-std, but for now the mean is enough).\n",
        "\n",
        "The [`Series()`](https://pandas.pydata.org/pandas-docs/stable/reference/api/pandas.Series.html) class from pandas uses the train_scores_mean vector, that is obtained applying the - vector operation to the `train_scores.mean` vector that is obtained by applying the `mean()` function along the first axis (array rows) to the `train_scores` array. `Series()` converts the two input array into a dictionary, that can then be printed, plotted and manipulated, using the first array as a content, and the second array as a hash index.\n",
        "\n",
        "This should give you an idea of what a modern tensor-oriented programming language such as numpy, matlab or R, offers. In this case we could simply have appended the `train_sizes` array to the `train_scores_mean` array, and printed pretty much the same result. But, as you know, a dictionary is much more powerful than an array. We will not exploit it further here, but you can find it useful later."
      ]
    },
    {
      "cell_type": "code",
      "metadata": {
        "id": "QoYfNNXr4qzm",
        "colab": {
          "base_uri": "https://localhost:8080/"
        },
        "outputId": "ab68a0ec-59f1-436a-e23b-7f816e03c4f0"
      },
      "source": [
        "train_scores_mean = -train_scores.mean(axis = 1)\n",
        "validation_scores_mean = -validation_scores.mean(axis = 1)\n",
        "print('Mean training scores\\n\\n', pd.Series(train_scores_mean, index = train_sizes))\n",
        "print('\\n', '-' * 20) # separator\n",
        "print('\\nMean validation scores\\n\\n',pd.Series(validation_scores_mean, index = train_sizes))"
      ],
      "execution_count": 9,
      "outputs": [
        {
          "output_type": "stream",
          "name": "stdout",
          "text": [
            "Mean training scores\n",
            "\n",
            " 1      -0.000000e+00\n",
            "3       4.588267e-26\n",
            "10      5.277697e+00\n",
            "30      1.897276e+01\n",
            "100     1.859440e+01\n",
            "300     1.826633e+01\n",
            "1000    1.988780e+01\n",
            "5000    2.036036e+01\n",
            "7654    2.076488e+01\n",
            "dtype: float64\n",
            "\n",
            " --------------------\n",
            "\n",
            "Mean validation scores\n",
            "\n",
            " 1       423.372638\n",
            "3       553.296392\n",
            "10       35.311844\n",
            "30       27.775177\n",
            "100      22.392186\n",
            "300      21.185289\n",
            "1000     20.818727\n",
            "5000     20.799673\n",
            "7654     20.794924\n",
            "dtype: float64\n"
          ]
        }
      ]
    },
    {
      "cell_type": "markdown",
      "metadata": {
        "id": "cbbJTJyR8pGL"
      },
      "source": [
        "We plot the learning curves using the matplotlib library, using a log scale for the X axis, so that our training data sizes are equally spaced.\n",
        "The meaning of the various functions and arguments should be obvious. The `ylim` y axis limit must be used because the initial validation error is so huge that it would make the graph unreadable."
      ]
    },
    {
      "cell_type": "code",
      "metadata": {
        "id": "ytvaUkHJ8xfj",
        "colab": {
          "base_uri": "https://localhost:8080/",
          "height": 515
        },
        "outputId": "6ba4eb09-8cc9-4043-ebfc-d2be6fcfa409"
      },
      "source": [
        "# plt.style.use('seaborn-v0.8')\n",
        "plt.plot(train_sizes, train_scores_mean, label = 'Training error')\n",
        "plt.plot(train_sizes, validation_scores_mean, label = 'Validation error')\n",
        "plt.ylabel('MSE', fontsize = 14)\n",
        "plt.xscale(\"log\")\n",
        "plt.xlabel('Training set size', fontsize = 14)\n",
        "plt.title('Learning curves for a linear regression model', fontsize = 18, y = 1.03)\n",
        "plt.legend()\n",
        "plt.ylim(0,40)"
      ],
      "execution_count": 12,
      "outputs": [
        {
          "output_type": "execute_result",
          "data": {
            "text/plain": [
              "(0.0, 40.0)"
            ]
          },
          "metadata": {},
          "execution_count": 12
        },
        {
          "output_type": "display_data",
          "data": {
            "text/plain": [
              "<Figure size 640x480 with 1 Axes>"
            ],
            "image/png": "[encoded data removed]"
          },
          "metadata": {}
        }
      ]
    },
    {
      "cell_type": "markdown",
      "metadata": {
        "id": "mBl5bjyDjZjV"
      },
      "source": [
        "## Summary\n",
        "As you can see from the learning curves:\n",
        "- they **converge** around 1000 samples,\n",
        "- they are **practically indistinguishable** when we use the full data set.\n",
        "- the square root of the MSE (4.5) is about 1/4 of the standard deviation of the target.\n",
        "\n",
        "This roughly means that:\n",
        "- the model that we have chosen (Linear Regression) **may be** good enough for the data (no huge underfitting, no significant overfitting).\n",
        "- when we use 80% of the full data set as training set, we have enough data and the model is actually learning from the training set how to model the entire population (as represented by the validation set).\n",
        "\n",
        "If we want to be sure that the model is not underfitting too much, we could try to explore Polynomial Regression, as was done in the previous lab.\n",
        "\n",
        "Remember:\n",
        "*   **Overfitting can be detected** if the validation error is significantly higher than the training error.\n",
        "*   **Underfitting cannot be detected from the errors alone**, but requires you to\n",
        "  * either declare yourself happy with what you achieved\n",
        "  * or try increasing the model complexity until you start overfitting, and then regularize.\n",
        "\n"
      ]
    },
    {
      "cell_type": "markdown",
      "metadata": {
        "id": "u25N3ztM4cMG"
      },
      "source": [
        "## Your tasks\n",
        "Repeat the experiment that you did with Lasso regularization in the lab on **Linear and Polynomial Regression and regularization**, to analyze if some of the features of **this** dataset (on power plants) are redundant, i.e. their weights can be made close to zero without increasing the MSE too much. Do not add powers or cross-products of the features, i.e. do not use polynomial regression this time, only linear regression as above.\n",
        "Note that the learning_curves class does not give you access to the model parameters"
      ]
    },
    {
      "cell_type": "code",
      "metadata": {
        "id": "i3RRjIjJWNW3",
        "colab": {
          "base_uri": "https://localhost:8080/",
          "height": 383
        },
        "outputId": "abe2c20c-bd81-4801-c4ca-c0437fef0df0"
      },
      "source": [
        "X = electricity[features],\n",
        "y = electricity[target]\n",
        "ridge_steps = [\n",
        "    ('scalar', StandardScaler()),\n",
        "    ('model', Lasso(alpha=0.1))\n",
        "]\n",
        "\n",
        "ridge_pipe = Pipeline(ridge_steps)\n",
        "ridge_pipe.fit(X, y)\n"
      ],
      "execution_count": 13,
      "outputs": [
        {
          "output_type": "error",
          "ename": "ValueError",
          "evalue": "Found array with dim 3. StandardScaler expected <= 2.",
          "traceback": [
            "\u001b[0;31m---------------------------------------------------------------------------\u001b[0m",
            "\u001b[0;31mValueError\u001b[0m                                Traceback (most recent call last)",
            "\u001b[0;32m/tmp/ipython-input-1484128893.py\u001b[0m in \u001b[0;36m<cell line: 0>\u001b[0;34m()\u001b[0m\n\u001b[1;32m      7\u001b[0m \u001b[0;34m\u001b[0m\u001b[0m\n\u001b[1;32m      8\u001b[0m \u001b[0mridge_pipe\u001b[0m \u001b[0;34m=\u001b[0m \u001b[0mPipeline\u001b[0m\u001b[0;34m(\u001b[0m\u001b[0mridge_steps\u001b[0m\u001b[0;34m)\u001b[0m\u001b[0;34m\u001b[0m\u001b[0;34m\u001b[0m\u001b[0m\n\u001b[0;32m----> 9\u001b[0;31m \u001b[0mridge_pipe\u001b[0m\u001b[0;34m.\u001b[0m\u001b[0mfit\u001b[0m\u001b[0;34m(\u001b[0m\u001b[0mX\u001b[0m\u001b[0;34m,\u001b[0m \u001b[0my\u001b[0m\u001b[0;34m)\u001b[0m\u001b[0;34m\u001b[0m\u001b[0;34m\u001b[0m\u001b[0m\n\u001b[0m",
            "\u001b[0;32m/usr/local/lib/python3.12/dist-packages/sklearn/base.py\u001b[0m in \u001b[0;36mwrapper\u001b[0;34m(estimator, *args, **kwargs)\u001b[0m\n\u001b[1;32m   1387\u001b[0m                 )\n\u001b[1;32m   1388\u001b[0m             ):\n\u001b[0;32m-> 1389\u001b[0;31m                 \u001b[0;32mreturn\u001b[0m \u001b[0mfit_method\u001b[0m\u001b[0;34m(\u001b[0m\u001b[0mestimator\u001b[0m\u001b[0;34m,\u001b[0m \u001b[0;34m*\u001b[0m\u001b[0margs\u001b[0m\u001b[0;34m,\u001b[0m \u001b[0;34m**\u001b[0m\u001b[0mkwargs\u001b[0m\u001b[0;34m)\u001b[0m\u001b[0;34m\u001b[0m\u001b[0;34m\u001b[0m\u001b[0m\n\u001b[0m\u001b[1;32m   1390\u001b[0m \u001b[0;34m\u001b[0m\u001b[0m\n\u001b[1;32m   1391\u001b[0m         \u001b[0;32mreturn\u001b[0m \u001b[0mwrapper\u001b[0m\u001b[0;34m\u001b[0m\u001b[0;34m\u001b[0m\u001b[0m\n",
            "\u001b[0;32m/usr/local/lib/python3.12/dist-packages/sklearn/pipeline.py\u001b[0m in \u001b[0;36mfit\u001b[0;34m(self, X, y, **params)\u001b[0m\n\u001b[1;32m    652\u001b[0m \u001b[0;34m\u001b[0m\u001b[0m\n\u001b[1;32m    653\u001b[0m         \u001b[0mrouted_params\u001b[0m \u001b[0;34m=\u001b[0m \u001b[0mself\u001b[0m\u001b[0;34m.\u001b[0m\u001b[0m_check_method_params\u001b[0m\u001b[0;34m(\u001b[0m\u001b[0mmethod\u001b[0m\u001b[0;34m=\u001b[0m\u001b[0;34m\"fit\"\u001b[0m\u001b[0;34m,\u001b[0m \u001b[0mprops\u001b[0m\u001b[0;34m=\u001b[0m\u001b[0mparams\u001b[0m\u001b[0;34m)\u001b[0m\u001b[0;34m\u001b[0m\u001b[0;34m\u001b[0m\u001b[0m\n\u001b[0;32m--> 654\u001b[0;31m         \u001b[0mXt\u001b[0m \u001b[0;34m=\u001b[0m \u001b[0mself\u001b[0m\u001b[0;34m.\u001b[0m\u001b[0m_fit\u001b[0m\u001b[0;34m(\u001b[0m\u001b[0mX\u001b[0m\u001b[0;34m,\u001b[0m \u001b[0my\u001b[0m\u001b[0;34m,\u001b[0m \u001b[0mrouted_params\u001b[0m\u001b[0;34m,\u001b[0m \u001b[0mraw_params\u001b[0m\u001b[0;34m=\u001b[0m\u001b[0mparams\u001b[0m\u001b[0;34m)\u001b[0m\u001b[0;34m\u001b[0m\u001b[0;34m\u001b[0m\u001b[0m\n\u001b[0m\u001b[1;32m    655\u001b[0m         \u001b[0;32mwith\u001b[0m \u001b[0m_print_elapsed_time\u001b[0m\u001b[0;34m(\u001b[0m\u001b[0;34m\"Pipeline\"\u001b[0m\u001b[0;34m,\u001b[0m \u001b[0mself\u001b[0m\u001b[0;34m.\u001b[0m\u001b[0m_log_message\u001b[0m\u001b[0;34m(\u001b[0m\u001b[0mlen\u001b[0m\u001b[0;34m(\u001b[0m\u001b[0mself\u001b[0m\u001b[0;34m.\u001b[0m\u001b[0msteps\u001b[0m\u001b[0;34m)\u001b[0m \u001b[0;34m-\u001b[0m \u001b[0;36m1\u001b[0m\u001b[0;34m)\u001b[0m\u001b[0;34m)\u001b[0m\u001b[0;34m:\u001b[0m\u001b[0;34m\u001b[0m\u001b[0;34m\u001b[0m\u001b[0m\n\u001b[1;32m    656\u001b[0m             \u001b[0;32mif\u001b[0m \u001b[0mself\u001b[0m\u001b[0;34m.\u001b[0m\u001b[0m_final_estimator\u001b[0m \u001b[0;34m!=\u001b[0m \u001b[0;34m\"passthrough\"\u001b[0m\u001b[0;34m:\u001b[0m\u001b[0;34m\u001b[0m\u001b[0;34m\u001b[0m\u001b[0m\n",
            "\u001b[0;32m/usr/local/lib/python3.12/dist-packages/sklearn/pipeline.py\u001b[0m in \u001b[0;36m_fit\u001b[0;34m(self, X, y, routed_params, raw_params)\u001b[0m\n\u001b[1;32m    586\u001b[0m             )\n\u001b[1;32m    587\u001b[0m \u001b[0;34m\u001b[0m\u001b[0m\n\u001b[0;32m--> 588\u001b[0;31m             X, fitted_transformer = fit_transform_one_cached(\n\u001b[0m\u001b[1;32m    589\u001b[0m                 \u001b[0mcloned_transformer\u001b[0m\u001b[0;34m,\u001b[0m\u001b[0;34m\u001b[0m\u001b[0;34m\u001b[0m\u001b[0m\n\u001b[1;32m    590\u001b[0m                 \u001b[0mX\u001b[0m\u001b[0;34m,\u001b[0m\u001b[0;34m\u001b[0m\u001b[0;34m\u001b[0m\u001b[0m\n",
            "\u001b[0;32m/usr/local/lib/python3.12/dist-packages/joblib/memory.py\u001b[0m in \u001b[0;36m__call__\u001b[0;34m(self, *args, **kwargs)\u001b[0m\n\u001b[1;32m    324\u001b[0m \u001b[0;34m\u001b[0m\u001b[0m\n\u001b[1;32m    325\u001b[0m     \u001b[0;32mdef\u001b[0m \u001b[0m__call__\u001b[0m\u001b[0;34m(\u001b[0m\u001b[0mself\u001b[0m\u001b[0;34m,\u001b[0m \u001b[0;34m*\u001b[0m\u001b[0margs\u001b[0m\u001b[0;34m,\u001b[0m \u001b[0;34m**\u001b[0m\u001b[0mkwargs\u001b[0m\u001b[0;34m)\u001b[0m\u001b[0;34m:\u001b[0m\u001b[0;34m\u001b[0m\u001b[0;34m\u001b[0m\u001b[0m\n\u001b[0;32m--> 326\u001b[0;31m         \u001b[0;32mreturn\u001b[0m \u001b[0mself\u001b[0m\u001b[0;34m.\u001b[0m\u001b[0mfunc\u001b[0m\u001b[0;34m(\u001b[0m\u001b[0;34m*\u001b[0m\u001b[0margs\u001b[0m\u001b[0;34m,\u001b[0m \u001b[0;34m**\u001b[0m\u001b[0mkwargs\u001b[0m\u001b[0;34m)\u001b[0m\u001b[0;34m\u001b[0m\u001b[0;34m\u001b[0m\u001b[0m\n\u001b[0m\u001b[1;32m    327\u001b[0m \u001b[0;34m\u001b[0m\u001b[0m\n\u001b[1;32m    328\u001b[0m     \u001b[0;32mdef\u001b[0m \u001b[0mcall_and_shelve\u001b[0m\u001b[0;34m(\u001b[0m\u001b[0mself\u001b[0m\u001b[0;34m,\u001b[0m \u001b[0;34m*\u001b[0m\u001b[0margs\u001b[0m\u001b[0;34m,\u001b[0m \u001b[0;34m**\u001b[0m\u001b[0mkwargs\u001b[0m\u001b[0;34m)\u001b[0m\u001b[0;34m:\u001b[0m\u001b[0;34m\u001b[0m\u001b[0;34m\u001b[0m\u001b[0m\n",
            "\u001b[0;32m/usr/local/lib/python3.12/dist-packages/sklearn/pipeline.py\u001b[0m in \u001b[0;36m_fit_transform_one\u001b[0;34m(transformer, X, y, weight, message_clsname, message, params)\u001b[0m\n\u001b[1;32m   1549\u001b[0m     \u001b[0;32mwith\u001b[0m \u001b[0m_print_elapsed_time\u001b[0m\u001b[0;34m(\u001b[0m\u001b[0mmessage_clsname\u001b[0m\u001b[0;34m,\u001b[0m \u001b[0mmessage\u001b[0m\u001b[0;34m)\u001b[0m\u001b[0;34m:\u001b[0m\u001b[0;34m\u001b[0m\u001b[0;34m\u001b[0m\u001b[0m\n\u001b[1;32m   1550\u001b[0m         \u001b[0;32mif\u001b[0m \u001b[0mhasattr\u001b[0m\u001b[0;34m(\u001b[0m\u001b[0mtransformer\u001b[0m\u001b[0;34m,\u001b[0m \u001b[0;34m\"fit_transform\"\u001b[0m\u001b[0;34m)\u001b[0m\u001b[0;34m:\u001b[0m\u001b[0;34m\u001b[0m\u001b[0;34m\u001b[0m\u001b[0m\n\u001b[0;32m-> 1551\u001b[0;31m             \u001b[0mres\u001b[0m \u001b[0;34m=\u001b[0m \u001b[0mtransformer\u001b[0m\u001b[0;34m.\u001b[0m\u001b[0mfit_transform\u001b[0m\u001b[0;34m(\u001b[0m\u001b[0mX\u001b[0m\u001b[0;34m,\u001b[0m \u001b[0my\u001b[0m\u001b[0;34m,\u001b[0m \u001b[0;34m**\u001b[0m\u001b[0mparams\u001b[0m\u001b[0;34m.\u001b[0m\u001b[0mget\u001b[0m\u001b[0;34m(\u001b[0m\u001b[0;34m\"fit_transform\"\u001b[0m\u001b[0;34m,\u001b[0m \u001b[0;34m{\u001b[0m\u001b[0;34m}\u001b[0m\u001b[0;34m)\u001b[0m\u001b[0;34m)\u001b[0m\u001b[0;34m\u001b[0m\u001b[0;34m\u001b[0m\u001b[0m\n\u001b[0m\u001b[1;32m   1552\u001b[0m         \u001b[0;32melse\u001b[0m\u001b[0;34m:\u001b[0m\u001b[0;34m\u001b[0m\u001b[0;34m\u001b[0m\u001b[0m\n\u001b[1;32m   1553\u001b[0m             res = transformer.fit(X, y, **params.get(\"fit\", {})).transform(\n",
            "\u001b[0;32m/usr/local/lib/python3.12/dist-packages/sklearn/utils/_set_output.py\u001b[0m in \u001b[0;36mwrapped\u001b[0;34m(self, X, *args, **kwargs)\u001b[0m\n\u001b[1;32m    317\u001b[0m     \u001b[0;34m@\u001b[0m\u001b[0mwraps\u001b[0m\u001b[0;34m(\u001b[0m\u001b[0mf\u001b[0m\u001b[0;34m)\u001b[0m\u001b[0;34m\u001b[0m\u001b[0;34m\u001b[0m\u001b[0m\n\u001b[1;32m    318\u001b[0m     \u001b[0;32mdef\u001b[0m \u001b[0mwrapped\u001b[0m\u001b[0;34m(\u001b[0m\u001b[0mself\u001b[0m\u001b[0;34m,\u001b[0m \u001b[0mX\u001b[0m\u001b[0;34m,\u001b[0m \u001b[0;34m*\u001b[0m\u001b[0margs\u001b[0m\u001b[0;34m,\u001b[0m \u001b[0;34m**\u001b[0m\u001b[0mkwargs\u001b[0m\u001b[0;34m)\u001b[0m\u001b[0;34m:\u001b[0m\u001b[0;34m\u001b[0m\u001b[0;34m\u001b[0m\u001b[0m\n\u001b[0;32m--> 319\u001b[0;31m         \u001b[0mdata_to_wrap\u001b[0m \u001b[0;34m=\u001b[0m \u001b[0mf\u001b[0m\u001b[0;34m(\u001b[0m\u001b[0mself\u001b[0m\u001b[0;34m,\u001b[0m \u001b[0mX\u001b[0m\u001b[0;34m,\u001b[0m \u001b[0;34m*\u001b[0m\u001b[0margs\u001b[0m\u001b[0;34m,\u001b[0m \u001b[0;34m**\u001b[0m\u001b[0mkwargs\u001b[0m\u001b[0;34m)\u001b[0m\u001b[0;34m\u001b[0m\u001b[0;34m\u001b[0m\u001b[0m\n\u001b[0m\u001b[1;32m    320\u001b[0m         \u001b[0;32mif\u001b[0m \u001b[0misinstance\u001b[0m\u001b[0;34m(\u001b[0m\u001b[0mdata_to_wrap\u001b[0m\u001b[0;34m,\u001b[0m \u001b[0mtuple\u001b[0m\u001b[0;34m)\u001b[0m\u001b[0;34m:\u001b[0m\u001b[0;34m\u001b[0m\u001b[0;34m\u001b[0m\u001b[0m\n\u001b[1;32m    321\u001b[0m             \u001b[0;31m# only wrap the first output for cross decomposition\u001b[0m\u001b[0;34m\u001b[0m\u001b[0;34m\u001b[0m\u001b[0m\n",
            "\u001b[0;32m/usr/local/lib/python3.12/dist-packages/sklearn/base.py\u001b[0m in \u001b[0;36mfit_transform\u001b[0;34m(self, X, y, **fit_params)\u001b[0m\n\u001b[1;32m    919\u001b[0m         \u001b[0;32melse\u001b[0m\u001b[0;34m:\u001b[0m\u001b[0;34m\u001b[0m\u001b[0;34m\u001b[0m\u001b[0m\n\u001b[1;32m    920\u001b[0m             \u001b[0;31m# fit method of arity 2 (supervised transformation)\u001b[0m\u001b[0;34m\u001b[0m\u001b[0;34m\u001b[0m\u001b[0m\n\u001b[0;32m--> 921\u001b[0;31m             \u001b[0;32mreturn\u001b[0m \u001b[0mself\u001b[0m\u001b[0;34m.\u001b[0m\u001b[0mfit\u001b[0m\u001b[0;34m(\u001b[0m\u001b[0mX\u001b[0m\u001b[0;34m,\u001b[0m \u001b[0my\u001b[0m\u001b[0;34m,\u001b[0m \u001b[0;34m**\u001b[0m\u001b[0mfit_params\u001b[0m\u001b[0;34m)\u001b[0m\u001b[0;34m.\u001b[0m\u001b[0mtransform\u001b[0m\u001b[0;34m(\u001b[0m\u001b[0mX\u001b[0m\u001b[0;34m)\u001b[0m\u001b[0;34m\u001b[0m\u001b[0;34m\u001b[0m\u001b[0m\n\u001b[0m\u001b[1;32m    922\u001b[0m \u001b[0;34m\u001b[0m\u001b[0m\n\u001b[1;32m    923\u001b[0m \u001b[0;34m\u001b[0m\u001b[0m\n",
            "\u001b[0;32m/usr/local/lib/python3.12/dist-packages/sklearn/preprocessing/_data.py\u001b[0m in \u001b[0;36mfit\u001b[0;34m(self, X, y, sample_weight)\u001b[0m\n\u001b[1;32m    892\u001b[0m         \u001b[0;31m# Reset internal state before fitting\u001b[0m\u001b[0;34m\u001b[0m\u001b[0;34m\u001b[0m\u001b[0m\n\u001b[1;32m    893\u001b[0m         \u001b[0mself\u001b[0m\u001b[0;34m.\u001b[0m\u001b[0m_reset\u001b[0m\u001b[0;34m(\u001b[0m\u001b[0;34m)\u001b[0m\u001b[0;34m\u001b[0m\u001b[0;34m\u001b[0m\u001b[0m\n\u001b[0;32m--> 894\u001b[0;31m         \u001b[0;32mreturn\u001b[0m \u001b[0mself\u001b[0m\u001b[0;34m.\u001b[0m\u001b[0mpartial_fit\u001b[0m\u001b[0;34m(\u001b[0m\u001b[0mX\u001b[0m\u001b[0;34m,\u001b[0m \u001b[0my\u001b[0m\u001b[0;34m,\u001b[0m \u001b[0msample_weight\u001b[0m\u001b[0;34m)\u001b[0m\u001b[0;34m\u001b[0m\u001b[0;34m\u001b[0m\u001b[0m\n\u001b[0m\u001b[1;32m    895\u001b[0m \u001b[0;34m\u001b[0m\u001b[0m\n\u001b[1;32m    896\u001b[0m     \u001b[0;34m@\u001b[0m\u001b[0m_fit_context\u001b[0m\u001b[0;34m(\u001b[0m\u001b[0mprefer_skip_nested_validation\u001b[0m\u001b[0;34m=\u001b[0m\u001b[0;32mTrue\u001b[0m\u001b[0;34m)\u001b[0m\u001b[0;34m\u001b[0m\u001b[0;34m\u001b[0m\u001b[0m\n",
            "\u001b[0;32m/usr/local/lib/python3.12/dist-packages/sklearn/base.py\u001b[0m in \u001b[0;36mwrapper\u001b[0;34m(estimator, *args, **kwargs)\u001b[0m\n\u001b[1;32m   1387\u001b[0m                 )\n\u001b[1;32m   1388\u001b[0m             ):\n\u001b[0;32m-> 1389\u001b[0;31m                 \u001b[0;32mreturn\u001b[0m \u001b[0mfit_method\u001b[0m\u001b[0;34m(\u001b[0m\u001b[0mestimator\u001b[0m\u001b[0;34m,\u001b[0m \u001b[0;34m*\u001b[0m\u001b[0margs\u001b[0m\u001b[0;34m,\u001b[0m \u001b[0;34m**\u001b[0m\u001b[0mkwargs\u001b[0m\u001b[0;34m)\u001b[0m\u001b[0;34m\u001b[0m\u001b[0;34m\u001b[0m\u001b[0m\n\u001b[0m\u001b[1;32m   1390\u001b[0m \u001b[0;34m\u001b[0m\u001b[0m\n\u001b[1;32m   1391\u001b[0m         \u001b[0;32mreturn\u001b[0m \u001b[0mwrapper\u001b[0m\u001b[0;34m\u001b[0m\u001b[0;34m\u001b[0m\u001b[0m\n",
            "\u001b[0;32m/usr/local/lib/python3.12/dist-packages/sklearn/preprocessing/_data.py\u001b[0m in \u001b[0;36mpartial_fit\u001b[0;34m(self, X, y, sample_weight)\u001b[0m\n\u001b[1;32m    928\u001b[0m         \"\"\"\n\u001b[1;32m    929\u001b[0m         \u001b[0mfirst_call\u001b[0m \u001b[0;34m=\u001b[0m \u001b[0;32mnot\u001b[0m \u001b[0mhasattr\u001b[0m\u001b[0;34m(\u001b[0m\u001b[0mself\u001b[0m\u001b[0;34m,\u001b[0m \u001b[0;34m\"n_samples_seen_\"\u001b[0m\u001b[0;34m)\u001b[0m\u001b[0;34m\u001b[0m\u001b[0;34m\u001b[0m\u001b[0m\n\u001b[0;32m--> 930\u001b[0;31m         X = validate_data(\n\u001b[0m\u001b[1;32m    931\u001b[0m             \u001b[0mself\u001b[0m\u001b[0;34m,\u001b[0m\u001b[0;34m\u001b[0m\u001b[0;34m\u001b[0m\u001b[0m\n\u001b[1;32m    932\u001b[0m             \u001b[0mX\u001b[0m\u001b[0;34m,\u001b[0m\u001b[0;34m\u001b[0m\u001b[0;34m\u001b[0m\u001b[0m\n",
            "\u001b[0;32m/usr/local/lib/python3.12/dist-packages/sklearn/utils/validation.py\u001b[0m in \u001b[0;36mvalidate_data\u001b[0;34m(_estimator, X, y, reset, validate_separately, skip_check_array, **check_params)\u001b[0m\n\u001b[1;32m   2942\u001b[0m             \u001b[0mout\u001b[0m \u001b[0;34m=\u001b[0m \u001b[0mX\u001b[0m\u001b[0;34m,\u001b[0m \u001b[0my\u001b[0m\u001b[0;34m\u001b[0m\u001b[0;34m\u001b[0m\u001b[0m\n\u001b[1;32m   2943\u001b[0m     \u001b[0;32melif\u001b[0m \u001b[0;32mnot\u001b[0m \u001b[0mno_val_X\u001b[0m \u001b[0;32mand\u001b[0m \u001b[0mno_val_y\u001b[0m\u001b[0;34m:\u001b[0m\u001b[0;34m\u001b[0m\u001b[0;34m\u001b[0m\u001b[0m\n\u001b[0;32m-> 2944\u001b[0;31m         \u001b[0mout\u001b[0m \u001b[0;34m=\u001b[0m \u001b[0mcheck_array\u001b[0m\u001b[0;34m(\u001b[0m\u001b[0mX\u001b[0m\u001b[0;34m,\u001b[0m \u001b[0minput_name\u001b[0m\u001b[0;34m=\u001b[0m\u001b[0;34m\"X\"\u001b[0m\u001b[0;34m,\u001b[0m \u001b[0;34m**\u001b[0m\u001b[0mcheck_params\u001b[0m\u001b[0;34m)\u001b[0m\u001b[0;34m\u001b[0m\u001b[0;34m\u001b[0m\u001b[0m\n\u001b[0m\u001b[1;32m   2945\u001b[0m     \u001b[0;32melif\u001b[0m \u001b[0mno_val_X\u001b[0m \u001b[0;32mand\u001b[0m \u001b[0;32mnot\u001b[0m \u001b[0mno_val_y\u001b[0m\u001b[0;34m:\u001b[0m\u001b[0;34m\u001b[0m\u001b[0;34m\u001b[0m\u001b[0m\n\u001b[1;32m   2946\u001b[0m         \u001b[0mout\u001b[0m \u001b[0;34m=\u001b[0m \u001b[0m_check_y\u001b[0m\u001b[0;34m(\u001b[0m\u001b[0my\u001b[0m\u001b[0;34m,\u001b[0m \u001b[0;34m**\u001b[0m\u001b[0mcheck_params\u001b[0m\u001b[0;34m)\u001b[0m\u001b[0;34m\u001b[0m\u001b[0;34m\u001b[0m\u001b[0m\n",
            "\u001b[0;32m/usr/local/lib/python3.12/dist-packages/sklearn/utils/validation.py\u001b[0m in \u001b[0;36mcheck_array\u001b[0;34m(array, accept_sparse, accept_large_sparse, dtype, order, copy, force_writeable, force_all_finite, ensure_all_finite, ensure_non_negative, ensure_2d, allow_nd, ensure_min_samples, ensure_min_features, estimator, input_name)\u001b[0m\n\u001b[1;32m   1099\u001b[0m             )\n\u001b[1;32m   1100\u001b[0m         \u001b[0;32mif\u001b[0m \u001b[0;32mnot\u001b[0m \u001b[0mallow_nd\u001b[0m \u001b[0;32mand\u001b[0m \u001b[0marray\u001b[0m\u001b[0;34m.\u001b[0m\u001b[0mndim\u001b[0m \u001b[0;34m>=\u001b[0m \u001b[0;36m3\u001b[0m\u001b[0;34m:\u001b[0m\u001b[0;34m\u001b[0m\u001b[0;34m\u001b[0m\u001b[0m\n\u001b[0;32m-> 1101\u001b[0;31m             raise ValueError(\n\u001b[0m\u001b[1;32m   1102\u001b[0m                 \u001b[0;34m\"Found array with dim %d. %s expected <= 2.\"\u001b[0m\u001b[0;34m\u001b[0m\u001b[0;34m\u001b[0m\u001b[0m\n\u001b[1;32m   1103\u001b[0m                 \u001b[0;34m%\u001b[0m \u001b[0;34m(\u001b[0m\u001b[0marray\u001b[0m\u001b[0;34m.\u001b[0m\u001b[0mndim\u001b[0m\u001b[0;34m,\u001b[0m \u001b[0mestimator_name\u001b[0m\u001b[0;34m)\u001b[0m\u001b[0;34m\u001b[0m\u001b[0;34m\u001b[0m\u001b[0m\n",
            "\u001b[0;31mValueError\u001b[0m: Found array with dim 3. StandardScaler expected <= 2."
          ]
        }
      ]
    },
    {
      "cell_type": "markdown",
      "metadata": {
        "id": "z3-C-AIhnD3i"
      },
      "source": [
        "Credits: the lab was mostly taken from [here](https://www.dataquest.io/blog/learning-curves-machine-learning/)."
      ]
    }
  ]
}